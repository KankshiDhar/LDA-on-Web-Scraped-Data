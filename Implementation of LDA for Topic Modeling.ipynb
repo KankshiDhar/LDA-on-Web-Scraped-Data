{
 "cells": [
  {
   "cell_type": "code",
   "execution_count": 54,
   "metadata": {},
   "outputs": [],
   "source": [
    "import os\n",
    "import numpy \n",
    "import praw\n",
    "from sklearn.decomposition import LatentDirichletAllocation \n",
    "from sklearn.feature_extraction.text import CountVectorizer \n",
    "from sklearn.feature_extraction import text\n",
    "import requests"
   ]
  },
  {
   "cell_type": "code",
   "execution_count": null,
   "metadata": {},
   "outputs": [],
   "source": []
  },
  {
   "cell_type": "code",
   "execution_count": 55,
   "metadata": {},
   "outputs": [],
   "source": [
    "reddit = praw.Reddit(client_id= 'qgZr7KnedvrZxA',\n",
    "                     client_secret = 'CtJKepRswD2RFAzyMy8thcGjRWk',\n",
    "                     user_agent = 'TechAssign2',\n",
    "                     username = 'PowerfulWolverine',\n",
    "                     password = 'dhall4659890')"
   ]
  },
  {
   "cell_type": "code",
   "execution_count": 80,
   "metadata": {},
   "outputs": [],
   "source": [
    "subreddit = reddit.subreddit('netflix')\n",
    "top_subreddit = subreddit.top(limit=50)"
   ]
  },
  {
   "cell_type": "code",
   "execution_count": 81,
   "metadata": {},
   "outputs": [
    {
     "name": "stdout",
     "output_type": "stream",
     "text": [
      "‘The Umbrella Academy’ Renewed For Season 2 (EXCLUSIVE) av4vzk\n",
      "Netflix responds to reports of Steven Spielberg considering their exclusion from the Oscars: \"We love cinema, providing access for people who cannot afford or don't have theaters in their towns and providing filmmakers more ways to share art. These things are not mutually exclusive.\" ax5yyf\n",
      "I Created Retro Style Animated Intros for Today's Streaming Services (netflix included) arf0nq\n",
      "‘The Punisher’ & ‘Jessica Jones’ Canceled By Netflix arz0jk\n",
      "Everyone should go watch The Umbrella Academy aue0tp\n",
      "‘The Haunting of Hill House’ Renewed For Season 2 at Netflix at5j7z\n",
      "Netflix Is Shrinking the World: Instead of trying to sell American ideas to a foreign audience, it’s aiming to sell international ideas to a global audience. atigv5\n",
      "People who think Netflix isn't worth it because a lot of their originals aren't good are missing the point. All it takes is one good one for every handful of bad ones to make Netflix worth it. Umbrella Academy alone is worth this month's payment for me. asuzcm\n",
      "I never thought I'd say this, but the user reviews actually helped me watch more movies than not. Does anyone else miss the Netflix user reviews? anm2th\n",
      "Netflix Posted Biggest-Ever Profit in 2018 and Paid $0 in Income Taxes ans749\n",
      "Altered Carbon Season 2 coming! aw5nb7\n",
      "Santa Clarita Diet Season 3 confirmed for March 29th aqkypv\n",
      "Netflix Error messages that need to be made att67v\n",
      "Goop has a Netflix deal – this is a dangerous win for pseudoscience | Arwa Mahdawi | Opinion aokk7r\n",
      "Vince Gilligan’s ‘Breaking Bad’ Movie Headed To Netflix & AMC aq8zh9\n",
      "I won't miss those Marvel shows because of The Umbrella Academy avun0a\n",
      "Netflix's\"Umbrella Academy\" is a weird, welcome break from Marvel and DC Comics. ar0mzc\n",
      "Not sure if its been said but if you are interested in watching Velvet Buzzsaw DO NOT watch the trailer. ao35nv\n",
      "'Friends From College' Canceled After 2 Seasons on Netflix asb910\n",
      "Netflix doesn’t want deaf people to know which swear word was used. ap4269\n",
      "Ken Jeong's Netflix special is terrible arvhix\n",
      "Phishing scam posing as Netflix. A scam email arrived shortly after an authorized Netflix email. The real Netflix email detailed the upcoming price change; the scam email requested a credit card to authorize payment. They were back to back in my inbox, making it appear that they were connected. [US] arab1h\n",
      "Just finished ‘Russian Doll’ - loved it! apuumh\n",
      "Is Peaky Blinders good? auqzfs\n",
      "Netflix Puts Out a Straight-to-series Order For Live-action Dramedy 'The Baby-Sitters Club' awitnf\n",
      "Netflix's 'The OA Part II' Set to Premiere in March + First Look Images aveuy4\n",
      "Netflix Is Giving Martin Scorsese’s The Irishman a Traditional Oscar-Season Push avkb7g\n",
      "Formula 1: Drive to Survive | Official trailer asnp82\n",
      "Bit late to the party but I just finished Sex Education. I was blown away. aosm4t\n",
      "Infinity War has the biggest range in volume from low talking to the explosions and music. What's up with that? I don't want to go deaf. ap2a8u\n",
      "The Umbrella Academy (Season 1) - Available Now [ALL] aqud98\n",
      "If you're tired off The walking Dead ... au8vfk\n",
      "russian doll: a netflix original soundtrack aog7oy\n",
      "Kingdom is absolutely fantastic aq3pl8\n",
      "Josh Duhamel Among Seven Cast in Netflix Series ‘Jupiter’s Legacy’ apiun3\n",
      "Do not miss Russian Doll aomybp\n",
      "List of some upcoming new Netflix Original series in 2019 apowx9\n",
      "Nickelodeon Sets Loud House, Ninja Turtles Animated Films at Netflix anf7yg\n",
      "Netflix ‘Transformers’ Origin Story Animated Series Premieres in 2020 aqwygk\n",
      "Beyond the Curve documentary awefwt\n",
      "I just watched Abducted in Plain Sight ars3tt\n",
      "'The Umbrella Academy': Aidan Gallagher on Playing a 58-Year-Old Teenager aty8lw\n",
      "The umbrella academy is the best original superhero show netflix has right now. au0coc\n",
      "Hi, I’m Mike Price. I’m the Executive Producer and Showrunner of the Netflix animated comedy series “F IS FOR FAMILY”, which I created with our star, Bill Burr. AMA! at6cey\n",
      "Netflix Orders Second South African Original Series: ‘Blood & Water’ av3obf\n",
      "I'm watching Dating Around and... aqj3d4\n",
      "An Umbrella Academy For A Rainy Day asuce0\n",
      "The Dragon Prince (Season 2) - Available Now [ALL] aqyrzy\n",
      "Umbrella academy; yay or nay? arjtjp\n",
      "I’m Josh Zeman, Director of Murder Mountain, Cropsey, Killer Legends & The Killing Season. Guilty as charged. AMA ao7zop\n"
     ]
    }
   ],
   "source": [
    "for submission in subreddit.top(time_filter = 'month', limit= 50):\n",
    "    print(submission.title, submission.id)"
   ]
  },
  {
   "cell_type": "code",
   "execution_count": 82,
   "metadata": {},
   "outputs": [],
   "source": [
    "mydir = \"C:/Users/kanks/Desktop/Spring 19/741 - Social Computing/HW2/files/\"\n",
    "Count = 1"
   ]
  },
  {
   "cell_type": "code",
   "execution_count": 83,
   "metadata": {},
   "outputs": [],
   "source": [
    "for submission in top_subreddit:\n",
    "    if not submission.stickied and Count<=25:\n",
    "        filedir = mydir + \"file\" + str(Count) + \".txt\"\n",
    "        Count+=1\n",
    "        textfile = open(filedir, \"w+\", encoding='utf-8')\n",
    "        textfile.write(\"%s\\n%s\" %(submission.title, submission.selftext))\n",
    "        textfile.close()"
   ]
  },
  {
   "cell_type": "code",
   "execution_count": null,
   "metadata": {},
   "outputs": [],
   "source": []
  },
  {
   "cell_type": "code",
   "execution_count": 84,
   "metadata": {},
   "outputs": [],
   "source": [
    "import numpy\n",
    "from sklearn.decomposition import LatentDirichletAllocation\n",
    "from sklearn.feature_extraction.text import CountVectorizer\n",
    "from sklearn.feature_extraction import text "
   ]
  },
  {
   "cell_type": "code",
   "execution_count": 85,
   "metadata": {},
   "outputs": [],
   "source": [
    "def readData(direc):\n",
    "    texts = []\n",
    "    files = os.listdir(direc)\n",
    "    count = 1\n",
    "    for myf in files:\n",
    "        f = open(direc+myf, 'r', encoding = 'utf-8')\n",
    "        texts.append(f.read())\n",
    "        f.close()\n",
    "    return texts\n",
    "netflix = readData(mydir)"
   ]
  },
  {
   "cell_type": "code",
   "execution_count": 86,
   "metadata": {},
   "outputs": [],
   "source": [
    "topicno = 20\n",
    "featureno = 1000\n",
    "topwords = 20\n",
    "\n",
    "\n",
    "def applyLDA(data, topicno, featureno):\n",
    "    mystopwords=  ['netflix', 'a', 'the', 'are', 'which','I', 'am' ,'so', 'can', 'what', 'how', 'it', 'your', 'my', 'mine', 'who']\n",
    "    stopwords = text.ENGLISH_STOP_WORDS.union(mystopwords)\n",
    "    \n",
    "    tf_vectorizer = CountVectorizer(max_df=0.95, min_df=3, max_features=featureno, stop_words=stopwords)\n",
    "    tf = tf_vectorizer.fit_transform(data)\n",
    "    tf_feature_names = tf_vectorizer.get_feature_names()\n",
    "    \n",
    "    lda = LatentDirichletAllocation(n_components=topicno, max_iter=5, learning_method='online', learning_offset=50.,random_state=0).fit(tf)\n",
    "    \n",
    "    doc_topic = lda.transform(tf)\n",
    "    \n",
    "    return lda,tf_feature_names,doc_topic\n",
    "\n",
    "\n",
    "netlda,net_feature_names,net_doc_topic = applyLDA(netflix,topicno,featureno)   "
   ]
  },
  {
   "cell_type": "code",
   "execution_count": 87,
   "metadata": {},
   "outputs": [
    {
     "name": "stdout",
     "output_type": "stream",
     "text": [
      "Netflix on Twitter: 'In 2018, the Internet is united in defense of #NetNeutrality. As for the FCC, we will see you in court.'\n",
      "\n"
     ]
    }
   ],
   "source": [
    "print(netflix[20])"
   ]
  },
  {
   "cell_type": "code",
   "execution_count": 88,
   "metadata": {},
   "outputs": [
    {
     "name": "stdout",
     "output_type": "stream",
     "text": [
      "Topic 0:\n",
      "Mean Netflix Posts: 0.04694558630097243\n",
      "year edit streaming cards spacey movie watching shows like don new just time house watch\n",
      "\n",
      "Topic 1:\n",
      "Mean Netflix Posts: 0.02611225344383287\n",
      "don edit like movie year watch streaming spacey house watching new shows cards time just\n",
      "\n",
      "Topic 2:\n",
      "Mean Netflix Posts: 0.026112253436054705\n",
      "shows new don streaming spacey watching cards watch house edit time just year movie like\n",
      "\n",
      "Topic 3:\n",
      "Mean Netflix Posts: 0.12402891974030124\n",
      "house cards spacey new year movie watch shows don streaming just like watching time edit\n",
      "\n",
      "Topic 4:\n",
      "Mean Netflix Posts: 0.0261122534309905\n",
      "cards spacey time house like don just watching movie shows edit streaming year watch new\n",
      "\n",
      "Topic 5:\n",
      "Mean Netflix Posts: 0.026112253458562412\n",
      "year shows movie cards just don house new spacey watch watching streaming like edit time\n",
      "\n",
      "Topic 6:\n",
      "Mean Netflix Posts: 0.026112253447062736\n",
      "new just don watch like streaming spacey shows edit movie year cards time house watching\n",
      "\n",
      "Topic 7:\n",
      "Mean Netflix Posts: 0.026112253431729664\n",
      "like movie spacey streaming house shows watching edit cards time year just new watch don\n",
      "\n",
      "Topic 8:\n",
      "Mean Netflix Posts: 0.026112253432904988\n",
      "just watching don cards shows like new spacey edit house movie time watch year streaming\n",
      "\n",
      "Topic 9:\n",
      "Mean Netflix Posts: 0.15169704798493794\n",
      "movie new watch just like edit time don year cards spacey shows watching streaming house\n",
      "\n",
      "Topic 10:\n",
      "Mean Netflix Posts: 0.026112253430844043\n",
      "spacey just time watching movie like don house new edit year streaming watch cards shows\n",
      "\n",
      "Topic 11:\n",
      "Mean Netflix Posts: 0.026112253470185292\n",
      "don year just time movie house new watching watch like cards shows edit spacey streaming\n",
      "\n",
      "Topic 12:\n",
      "Mean Netflix Posts: 0.026112253457772617\n",
      "year spacey streaming watching just don edit house new cards shows like movie time watch\n",
      "\n",
      "Topic 13:\n",
      "Mean Netflix Posts: 0.026112253431153098\n",
      "watch watching movie year just time like house cards streaming spacey don shows new edit\n",
      "\n",
      "Topic 14:\n",
      "Mean Netflix Posts: 0.02611225355140966\n",
      "watch movie just watching year spacey don streaming cards like edit time shows house new\n",
      "\n",
      "Topic 15:\n",
      "Mean Netflix Posts: 0.026112253481739966\n",
      "time year watching watch movie edit don new streaming shows just house spacey cards like\n",
      "\n",
      "Topic 16:\n",
      "Mean Netflix Posts: 0.02611225343450238\n",
      "cards watch movie shows don new like house spacey watching edit streaming just year time\n",
      "\n",
      "Topic 17:\n",
      "Mean Netflix Posts: 0.026112253434123964\n",
      "shows watching don edit streaming cards time house new like watch year movie just spacey\n",
      "\n",
      "Topic 18:\n",
      "Mean Netflix Posts: 0.2595323907706954\n",
      "just streaming shows like don watching edit time spacey year cards new movie watch house\n",
      "\n",
      "Topic 19:\n",
      "Mean Netflix Posts: 0.026112253430223952\n",
      "just shows time house year new movie cards like watch streaming edit don spacey watching\n",
      "\n"
     ]
    }
   ],
   "source": [
    "def display_topics(model, doc_topic, feature_names, no_top_words):\n",
    "    for topic_idx, topic in enumerate(model.components_):\n",
    "        meannet = numpy.mean(doc_topic[0:24,topic_idx])\n",
    "\n",
    "        \n",
    "        print(\"Topic %d:\" % (topic_idx))  \n",
    "        print(\"Mean Netflix Posts: \"+str(meannet))\n",
    "        print(\" \".join([feature_names[i]\n",
    "                        for i in topic.argsort()[:-no_top_words - 1:-1]]))\n",
    "        print(\"\")\n",
    "display_topics(netlda, net_doc_topic, net_feature_names, topwords)"
   ]
  },
  {
   "cell_type": "code",
   "execution_count": null,
   "metadata": {},
   "outputs": [],
   "source": []
  },
  {
   "cell_type": "code",
   "execution_count": null,
   "metadata": {},
   "outputs": [],
   "source": []
  }
 ],
 "metadata": {
  "kernelspec": {
   "display_name": "Python 3",
   "language": "python",
   "name": "python3"
  },
  "language_info": {
   "codemirror_mode": {
    "name": "ipython",
    "version": 3
   },
   "file_extension": ".py",
   "mimetype": "text/x-python",
   "name": "python",
   "nbconvert_exporter": "python",
   "pygments_lexer": "ipython3",
   "version": "3.6.5"
  }
 },
 "nbformat": 4,
 "nbformat_minor": 2
}
